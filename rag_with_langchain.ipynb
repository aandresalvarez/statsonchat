{
 "cells": [
  {
   "cell_type": "code",
   "id": "initial_id",
   "metadata": {
    "collapsed": true,
    "ExecuteTime": {
     "end_time": "2024-04-26T13:05:04.743704Z",
     "start_time": "2024-04-26T13:05:02.144197Z"
    }
   },
   "source": [
    "from langchain_community.document_loaders import TextLoader\n",
    "from langchain_google_vertexai import ChatVertexAI\n",
    "from langchain_google_vertexai import VertexAI\n",
    "from langchain_google_vertexai import VertexAIEmbeddings\n",
    "from langchain_chroma import Chroma\n",
    "from langchain_core.output_parsers import StrOutputParser\n",
    "from langchain_core.prompts import PromptTemplate\n",
    "from langchain_text_splitters import RecursiveCharacterTextSplitter\n",
    "from langchain_core.runnables import RunnablePassthrough"
   ],
   "outputs": [],
   "execution_count": 1
  },
  {
   "metadata": {
    "ExecuteTime": {
     "end_time": "2024-04-26T13:54:42.670437Z",
     "start_time": "2024-04-26T13:54:40.231957Z"
    }
   },
   "cell_type": "code",
   "source": [
    "# , project=\"som-rit-phi-starr-dev\", location=\"us-west1\"\n",
    "llm = ChatVertexAI(model=\"gemini-1.5-pro-preview-0409\")\n",
    "embeddings = VertexAIEmbeddings(\"textembedding-gecko\")"
   ],
   "id": "aca1ef4ce5b7ea94",
   "outputs": [],
   "execution_count": 11
  },
  {
   "metadata": {
    "ExecuteTime": {
     "end_time": "2024-04-26T13:54:43.102413Z",
     "start_time": "2024-04-26T13:54:43.098376Z"
    }
   },
   "cell_type": "code",
   "source": [
    "loader = TextLoader(\"stetson-help.txt\")\n",
    "docs = loader.load()\n",
    "print(str(len(docs)) + \" documents loaded\")"
   ],
   "id": "66bcfded91e42195",
   "outputs": [
    {
     "name": "stdout",
     "output_type": "stream",
     "text": [
      "1 documents loaded\n"
     ]
    }
   ],
   "execution_count": 12
  },
  {
   "metadata": {
    "ExecuteTime": {
     "end_time": "2024-04-26T13:54:46.608905Z",
     "start_time": "2024-04-26T13:54:46.604219Z"
    }
   },
   "cell_type": "code",
   "source": [
    "text_splitter = RecursiveCharacterTextSplitter(\n",
    "    chunk_size=500\n",
    ")\n",
    "all_splits = text_splitter.split_documents(docs)\n",
    "\n",
    "print(\"Total Chunks \" + str(len(all_splits)))"
   ],
   "id": "4b3e3d09a312c6f7",
   "outputs": [
    {
     "name": "stdout",
     "output_type": "stream",
     "text": [
      "Total Chunks 47\n"
     ]
    }
   ],
   "execution_count": 13
  },
  {
   "metadata": {
    "ExecuteTime": {
     "end_time": "2024-04-26T13:54:53.829897Z",
     "start_time": "2024-04-26T13:54:51.284975Z"
    }
   },
   "cell_type": "code",
   "source": [
    "vectorstore = Chroma.from_documents(documents=all_splits, embedding=embeddings)\n",
    "\n",
    "retriever = vectorstore.as_retriever(search_type=\"similarity\", search_kwargs={\"k\": 6})"
   ],
   "id": "6137c5255ae2296",
   "outputs": [],
   "execution_count": 14
  },
  {
   "metadata": {
    "ExecuteTime": {
     "end_time": "2024-04-26T13:54:56.057352Z",
     "start_time": "2024-04-26T13:54:56.054573Z"
    }
   },
   "cell_type": "code",
   "source": [
    "template = \"\"\"Use the following pieces of context to answer the question at the end.\n",
    "If you don't know the answer, use your own knowledge to provide a helpful response. \n",
    "Keep the answer as concise as possible.\n",
    "Always say \"thanks for asking!\" at the end of the answer.\n",
    "\n",
    "{context}\n",
    "\n",
    "Question: {question}\n",
    "\n",
    "Helpful Answer:\"\"\"\n",
    "\n",
    "custom_rag_prompt = PromptTemplate.from_template(template)\n"
   ],
   "id": "63e722f5a6038d14",
   "outputs": [],
   "execution_count": 15
  },
  {
   "metadata": {
    "ExecuteTime": {
     "end_time": "2024-04-26T13:54:59.689281Z",
     "start_time": "2024-04-26T13:54:59.686068Z"
    }
   },
   "cell_type": "code",
   "source": [
    "def format_docs(inp_docs):\n",
    "    str = \"\\n\\n\".join(doc.page_content for doc in inp_docs)\n",
    "    # print(\"Context Information: \" + str)\n",
    "    return str"
   ],
   "id": "239fb7da2f3ed05c",
   "outputs": [],
   "execution_count": 16
  },
  {
   "metadata": {
    "ExecuteTime": {
     "end_time": "2024-04-26T13:55:01.678418Z",
     "start_time": "2024-04-26T13:55:01.674518Z"
    }
   },
   "cell_type": "code",
   "source": [
    "rag_chain = (\n",
    "        {\"context\": retriever | format_docs, \"question\": RunnablePassthrough()}\n",
    "        | custom_rag_prompt\n",
    "        | llm\n",
    "        | StrOutputParser()\n",
    ")"
   ],
   "id": "b65ca5cfecb6ca56",
   "outputs": [],
   "execution_count": 17
  },
  {
   "metadata": {
    "ExecuteTime": {
     "end_time": "2024-04-26T13:55:25.481387Z",
     "start_time": "2024-04-26T13:55:04.602533Z"
    }
   },
   "cell_type": "code",
   "source": [
    "print(\"Welcome to Stetson AI Chatbot.\\n\")\n",
    "\n",
    "question = input(\"Enter your question: \")\n",
    "result = rag_chain.invoke(question)\n",
    "print(\"Answer: \" + result)\n"
   ],
   "id": "63911372f9b0034a",
   "outputs": [
    {
     "name": "stdout",
     "output_type": "stream",
     "text": [
      "Welcome to Stetson AI Chatbot.\n",
      "\n",
      "Answer: ## Downloading PHI Data at Stanford Medicine: A Step-by-Step Guide\n",
      "\n",
      "**Here's how to download PHI data for research at Stanford Medicine:**\n",
      "\n",
      "1. **IRB/DPA Approval:** Ensure you have a valid IRB (Institutional Review Board) approval with an associated Data Protection Agreement (DPA). This is the foundational step for any research involving PHI.\n",
      "2. **PHI Download Exemption:** Stanford Medicine has a policy prohibiting self-service download of PHI. You'll need an exemption to this policy. Fill out the survey at https://redcap.stanford.edu/webauth/surveys/?s=RKFR9PWAP9R3X493 to request this exemption. \n",
      "3. **Specify Minimum Necessary PHI:**  Once you have the necessary approvals, you'll need to specify the minimum PHI required for your research. This aligns with HIPAA's Minimum Necessary requirement, ensuring you only access the data essential for your study.\n",
      "4. **Timeline:**  Expect the approval process for PHI download to take several weeks, assuming all your documentation is in order. \n",
      "\n",
      "**Additional Resources:**\n",
      "\n",
      "* **Data Compliance at Stanford:** https://med.stanford.edu/starr-tools/data-compliance.html\n",
      "* **OMOP Office Hours:**  https://starr.stanford.edu/research-support  (for questions related to OMOP)\n",
      "\n",
      "**Remember, accessing PHI requires strict adherence to privacy regulations and institutional policies. Always prioritize data security and ethical research practices.**\n",
      "\n",
      "Thanks for asking! \n",
      "\n"
     ]
    }
   ],
   "execution_count": 18
  },
  {
   "metadata": {
    "ExecuteTime": {
     "end_time": "2024-04-26T13:55:40.364392Z",
     "start_time": "2024-04-26T13:55:40.353138Z"
    }
   },
   "cell_type": "code",
   "source": "vectorstore.delete_collection()",
   "id": "e12985dba1f106d8",
   "outputs": [],
   "execution_count": 19
  },
  {
   "metadata": {
    "ExecuteTime": {
     "end_time": "2024-04-26T13:05:41.218370Z",
     "start_time": "2024-04-26T13:05:41.216602Z"
    }
   },
   "cell_type": "code",
   "source": "",
   "id": "6d9ff8b762ebed53",
   "outputs": [],
   "execution_count": 10
  }
 ],
 "metadata": {
  "kernelspec": {
   "display_name": "Python 3",
   "language": "python",
   "name": "python3"
  },
  "language_info": {
   "codemirror_mode": {
    "name": "ipython",
    "version": 2
   },
   "file_extension": ".py",
   "mimetype": "text/x-python",
   "name": "python",
   "nbconvert_exporter": "python",
   "pygments_lexer": "ipython2",
   "version": "2.7.6"
  }
 },
 "nbformat": 4,
 "nbformat_minor": 5
}
